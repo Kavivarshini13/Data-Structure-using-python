{
 "cells": [
  {
   "cell_type": "code",
   "execution_count": 1,
   "id": "06383ed6-5714-425d-a394-5977764a2666",
   "metadata": {},
   "outputs": [
    {
     "name": "stdout",
     "output_type": "stream",
     "text": [
      "[  0 100  40  10  50  20  30]\n"
     ]
    }
   ],
   "source": [
    "import numpy as np\n",
    "x=np.array([10,20,30,40,50,10,0,30,100])\n",
    "def r_dup(x):\n",
    "    res=list(set(x)) #type conversion\n",
    "    return np.array(res)\n",
    "result=r_dup(x)\n",
    "type(result)\n",
    "print(result)"
   ]
  },
  {
   "cell_type": "code",
   "execution_count": null,
   "id": "9dd146a1-3b3a-47f6-9267-bfd9ad2c6100",
   "metadata": {},
   "outputs": [],
   "source": []
  }
 ],
 "metadata": {
  "kernelspec": {
   "display_name": "Python 3 (ipykernel)",
   "language": "python",
   "name": "python3"
  },
  "language_info": {
   "codemirror_mode": {
    "name": "ipython",
    "version": 3
   },
   "file_extension": ".py",
   "mimetype": "text/x-python",
   "name": "python",
   "nbconvert_exporter": "python",
   "pygments_lexer": "ipython3",
   "version": "3.12.4"
  }
 },
 "nbformat": 4,
 "nbformat_minor": 5
}
