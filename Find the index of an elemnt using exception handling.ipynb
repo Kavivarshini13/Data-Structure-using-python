{
 "cells": [
  {
   "cell_type": "code",
   "execution_count": 5,
   "id": "03c83f5a-02d9-4622-8a06-6374829dc143",
   "metadata": {},
   "outputs": [
    {
     "name": "stdin",
     "output_type": "stream",
     "text": [
      "Enter element to search:  30\n"
     ]
    },
    {
     "name": "stdout",
     "output_type": "stream",
     "text": [
      "2\n"
     ]
    }
   ],
   "source": [
    "import numpy as np\n",
    "\n",
    "x = np.array([10, 20, 30, 40, 50])\n",
    "\n",
    "def i_ele(x, s_ele):\n",
    "    try:\n",
    "        n = len(x)\n",
    "        for i in range(n):  \n",
    "            if x[i] == s_ele:\n",
    "                return i\n",
    "        raise ValueError(\"Element not found\")  \n",
    "    except ValueError:  \n",
    "        return -1\n",
    "s_ele = int(input(\"Enter element to search: \"))\n",
    "result = i_ele(x, s_ele)\n",
    "print(result)"
   ]
  },
  {
   "cell_type": "code",
   "execution_count": null,
   "id": "943a2754-1ed6-4f19-9146-b50e6dfe354b",
   "metadata": {},
   "outputs": [],
   "source": []
  }
 ],
 "metadata": {
  "kernelspec": {
   "display_name": "Python 3 (ipykernel)",
   "language": "python",
   "name": "python3"
  },
  "language_info": {
   "codemirror_mode": {
    "name": "ipython",
    "version": 3
   },
   "file_extension": ".py",
   "mimetype": "text/x-python",
   "name": "python",
   "nbconvert_exporter": "python",
   "pygments_lexer": "ipython3",
   "version": "3.12.4"
  }
 },
 "nbformat": 4,
 "nbformat_minor": 5
}
