{
 "cells": [
  {
   "cell_type": "code",
   "execution_count": 2,
   "id": "1ac55740-9eb5-4819-b9d2-6eb2f2fbde2a",
   "metadata": {},
   "outputs": [],
   "source": [
    "import numpy as np"
   ]
  },
  {
   "cell_type": "code",
   "execution_count": 4,
   "id": "6c692328-288e-49ba-b9f2-f4f06b2504d5",
   "metadata": {},
   "outputs": [
    {
     "name": "stdout",
     "output_type": "stream",
     "text": [
      "(10, 50)\n"
     ]
    }
   ],
   "source": [
    "x=np.array([10,20,30,40,50])\n",
    "def min_max(x):\n",
    "    min_e=np.min(x)\n",
    "    max_e=np.max(x)\n",
    "    return min_e,max_e\n",
    "result=min_max(x)\n",
    "print(result)"
   ]
  },
  {
   "cell_type": "code",
   "execution_count": null,
   "id": "ed6a995d-14c6-4d9a-a18f-eb82b47fa1b7",
   "metadata": {},
   "outputs": [],
   "source": []
  }
 ],
 "metadata": {
  "kernelspec": {
   "display_name": "Python 3 (ipykernel)",
   "language": "python",
   "name": "python3"
  },
  "language_info": {
   "codemirror_mode": {
    "name": "ipython",
    "version": 3
   },
   "file_extension": ".py",
   "mimetype": "text/x-python",
   "name": "python",
   "nbconvert_exporter": "python",
   "pygments_lexer": "ipython3",
   "version": "3.12.4"
  }
 },
 "nbformat": 4,
 "nbformat_minor": 5
}
