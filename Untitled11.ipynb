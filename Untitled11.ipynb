{
 "cells": [
  {
   "cell_type": "code",
   "execution_count": 1,
   "id": "dca49929-280e-48b7-b015-7b9728eb850c",
   "metadata": {},
   "outputs": [
    {
     "name": "stdout",
     "output_type": "stream",
     "text": [
      "Tower of Hanoi solution:\n",
      "Move disk 1 from rod A to rod C\n",
      "Move disk 2 from rod A to rod B\n",
      "Move disk 1 from rod C to rod B\n",
      "Move disk 3 from rod A to rod C\n",
      "Move disk 1 from rod B to rod A\n",
      "Move disk 2 from rod B to rod C\n",
      "Move disk 1 from rod A to rod C\n"
     ]
    }
   ],
   "source": [
    "def tower_of_hanoi(n, source, target, auxiliary):\n",
    "    if n == 1:\n",
    "        print(f\"Move disk 1 from rod {source} to rod {target}\")\n",
    "        return\n",
    "    tower_of_hanoi(n - 1, source, auxiliary, target)\n",
    "    print(f\"Move disk {n} from rod {source} to rod {target}\")\n",
    "    tower_of_hanoi(n - 1, auxiliary, target, source)\n",
    "n = 3  \n",
    "source = \"A\"  \n",
    "target = \"C\"\n",
    "auxiliary = \"B\"\n",
    "print(\"Tower of Hanoi solution:\")\n",
    "tower_of_hanoi(n, source, target, auxiliary)"
   ]
  },
  {
   "cell_type": "code",
   "execution_count": 4,
   "id": "0b1b4582-63f8-457b-a6cb-fd1a83b6e909",
   "metadata": {},
   "outputs": [
    {
     "name": "stdout",
     "output_type": "stream",
     "text": [
      "0\n",
      "1\n",
      "1\n",
      "2\n",
      "3\n",
      "5\n",
      "8\n",
      "13\n",
      "21\n",
      "34\n",
      "0\n",
      "1\n",
      "1\n",
      "2\n",
      "3\n",
      "5\n",
      "8\n",
      "13\n",
      "21\n",
      "34\n"
     ]
    }
   ],
   "source": [
    "#recurvsion\n",
    "def fibonacci(n):\n",
    "    if n <= 0:\n",
    "        return \"Input should be a positive integer\"\n",
    "    elif n == 1:\n",
    "        return 0\n",
    "    elif n == 2:\n",
    "        return 1\n",
    "    else:\n",
    "        return fibonacci(n-1) + fibonacci(n-2)\n",
    "n = 10  \n",
    "for i in range(1, n+1):\n",
    "    print(fibonacci(i))\n",
    "def fibonacci(n, memo={}):\n",
    "    if n <= 0:\n",
    "        return \"Input should be a positive integer\"\n",
    "    elif n == 1:\n",
    "        return 0\n",
    "    elif n == 2:\n",
    "        return 1\n",
    "    elif n in memo:\n",
    "        return memo[n]\n",
    "    else:\n",
    "        memo[n] = fibonacci(n-1, memo) + fibonacci(n-2, memo)\n",
    "        return memo[n]\n",
    "n = 10 \n",
    "for i in range(1, n+1):\n",
    "    print(fibonacci(i))"
   ]
  },
  {
   "cell_type": "code",
   "execution_count": 6,
   "id": "f4205288-e706-4465-ba77-6a316efcf0d5",
   "metadata": {},
   "outputs": [
    {
     "data": {
      "text/plain": [
       "1"
      ]
     },
     "execution_count": 6,
     "metadata": {},
     "output_type": "execute_result"
    }
   ],
   "source": [
    "# 2. Sum of digits\n",
    "def sum_of_digits(n):\n",
    "    if n == 0:\n",
    "        return 0\n",
    "    return n % 10 + sum_of_digits(n // 10)\n",
    "sum_of_digits(10)"
   ]
  },
  {
   "cell_type": "code",
   "execution_count": 10,
   "id": "bcfc8b7d-c2db-4154-a97f-ea3ee14f4089",
   "metadata": {},
   "outputs": [
    {
     "data": {
      "text/plain": [
       "2"
      ]
     },
     "execution_count": 10,
     "metadata": {},
     "output_type": "execute_result"
    }
   ],
   "source": [
    "\n",
    "def gcd(a, b):\n",
    "    if b == 0:\n",
    "        return a\n",
    "    return gcd(b, a % b)\n",
    "gcd(14,36)"
   ]
  },
  {
   "cell_type": "code",
   "execution_count": 12,
   "id": "e7c10bf8-4df4-4877-9dc5-cddf8978305b",
   "metadata": {},
   "outputs": [
    {
     "data": {
      "text/plain": [
       "55"
      ]
     },
     "execution_count": 12,
     "metadata": {},
     "output_type": "execute_result"
    }
   ],
   "source": [
    "def fibonacci(n):\n",
    "    if n <= 1:\n",
    "        return n\n",
    "    return fibonacci(n - 1) + fibonacci(n - 2)\n",
    "fibonacci(10)"
   ]
  },
  {
   "cell_type": "code",
   "execution_count": 14,
   "id": "ebdd6000-92d2-44a3-8613-9bfbd3b3942b",
   "metadata": {},
   "outputs": [
    {
     "data": {
      "text/plain": [
       "'10100'"
      ]
     },
     "execution_count": 14,
     "metadata": {},
     "output_type": "execute_result"
    }
   ],
   "source": [
    "def decimal_to_binary(n):\n",
    "    if n == 0:\n",
    "        return \"\"\n",
    "    return decimal_to_binary(n // 2) + str(n % 2)\n",
    "decimal_to_binary(20)"
   ]
  },
  {
   "cell_type": "code",
   "execution_count": 16,
   "id": "66d7640d-be53-4290-a2a4-f2284e7dd972",
   "metadata": {},
   "outputs": [
    {
     "data": {
      "text/plain": [
       "1"
      ]
     },
     "execution_count": 16,
     "metadata": {},
     "output_type": "execute_result"
    }
   ],
   "source": [
    "def count_zeroes(n):\n",
    "    if n == 0:\n",
    "        return 1\n",
    "    if n < 10:\n",
    "        return 0\n",
    "    return (1 if n % 10 == 0 else 0) + count_zeroes(n // 10)\n",
    "count_zeroes(10)"
   ]
  },
  {
   "cell_type": "code",
   "execution_count": 18,
   "id": "0f19f521-eebd-4c0e-bc55-f6d237794a5c",
   "metadata": {},
   "outputs": [
    {
     "data": {
      "text/plain": [
       "3"
      ]
     },
     "execution_count": 18,
     "metadata": {},
     "output_type": "execute_result"
    }
   ],
   "source": [
    "def sum_natural(n):\n",
    "    if n == 1:\n",
    "        return 1\n",
    "    return n + sum_natural(n - 1)\n",
    "sum_natural(2)"
   ]
  },
  {
   "cell_type": "code",
   "execution_count": 20,
   "id": "21e143c0-a429-4186-abda-f3d22f327ee2",
   "metadata": {},
   "outputs": [
    {
     "data": {
      "text/plain": [
       "2"
      ]
     },
     "execution_count": 20,
     "metadata": {},
     "output_type": "execute_result"
    }
   ],
   "source": [
    "def count_digits(n):\n",
    "    if n == 0:\n",
    "        return 0\n",
    "    return 1 + count_digits(n // 10)\n",
    "count_digits(10)"
   ]
  },
  {
   "cell_type": "code",
   "execution_count": 22,
   "id": "ac716a70-444e-4661-9c22-a8a7c21e40bc",
   "metadata": {},
   "outputs": [
    {
     "data": {
      "text/plain": [
       "1"
      ]
     },
     "execution_count": 22,
     "metadata": {},
     "output_type": "execute_result"
    }
   ],
   "source": [
    "def count_odd_digits(n):\n",
    "    if n == 0:\n",
    "        return 0\n",
    "    return (1 if (n % 10) % 2 != 0 else 0) + count_odd_digits(n // 10)\n",
    "count_odd_digits(50)"
   ]
  },
  {
   "cell_type": "code",
   "execution_count": 26,
   "id": "6df38ec4-325c-4411-9ee1-b812bb491174",
   "metadata": {},
   "outputs": [
    {
     "data": {
      "text/plain": [
       "4"
      ]
     },
     "execution_count": 26,
     "metadata": {},
     "output_type": "execute_result"
    }
   ],
   "source": [
    "def string_length(s):\n",
    "    if s == \"\":\n",
    "        return 0\n",
    "    return 1 + string_length(s[1:])\n",
    "string_length(\"kavi\")"
   ]
  },
  {
   "cell_type": "code",
   "execution_count": 28,
   "id": "7cb2a3bf-15c5-4486-9a2a-70c8db069ae0",
   "metadata": {},
   "outputs": [
    {
     "data": {
      "text/plain": [
       "<function __main__.count_digits(n)>"
      ]
     },
     "execution_count": 28,
     "metadata": {},
     "output_type": "execute_result"
    }
   ],
   "source": [
    "def count_digits_string(s):\n",
    "    if s == \"\":\n",
    "        return 0\n",
    "    return (1 if s[0].isdigit() else 0) + count_digits_string(s[1:])\n",
    "count_digits"
   ]
  },
  {
   "cell_type": "code",
   "execution_count": 30,
   "id": "92f9f58a-d947-4643-8484-a4d00e8759c5",
   "metadata": {},
   "outputs": [
    {
     "data": {
      "text/plain": [
       "2"
      ]
     },
     "execution_count": 30,
     "metadata": {},
     "output_type": "execute_result"
    }
   ],
   "source": [
    "def count_vowels(s):\n",
    "    if s == \"\":\n",
    "        return 0\n",
    "    return (1 if s[0] in \"aeiouAEIOU\" else 0) + count_vowels(s[1:])\n",
    "count_vowels(\"apple\")"
   ]
  },
  {
   "cell_type": "code",
   "execution_count": 1,
   "id": "8da703a9-abb9-4ca2-a800-a2a3297ab8aa",
   "metadata": {},
   "outputs": [],
   "source": [
    "def power(a,b):\n",
    "    if b == 0:\n",
    "        return 1\n",
    "    else:\n",
    "        return a*power(a,b-1)\n",
    "        num = int(input(\"Enter any number:\"))\n",
    "        exp = int(input(\"Enter exponent:\"))\n",
    "        result = power(num,exp)\n",
    "        print(\"Result:\",result)"
   ]
  },
  {
   "cell_type": "code",
   "execution_count": 5,
   "id": "3f99c65f-3a94-48d4-a432-34984f4da45c",
   "metadata": {},
   "outputs": [
    {
     "name": "stdout",
     "output_type": "stream",
     "text": [
      "Fibonacci number at position 5 is 3\n"
     ]
    }
   ],
   "source": [
    "def fibonacci(n):\n",
    "# Base case\n",
    "    if n < 1:\n",
    "        return -1\n",
    "    elif n==1:\n",
    "        return 0\n",
    "    elif n==2:\n",
    "        return 1\n",
    "    else:\n",
    "        return fibonacci(n-1) + fibonacci(n-2)\n",
    "# Example usage\n",
    "n = 5 # Change this value to test other positions\n",
    "print(f\"Fibonacci number at position {n} is {fibonacci(n)}\")"
   ]
  },
  {
   "cell_type": "code",
   "execution_count": 11,
   "id": "9b5ddeaf-a59c-4730-96e5-a86acc766d5b",
   "metadata": {},
   "outputs": [],
   "source": [
    "def iseven(n):\n",
    "# Base case for even number\n",
    "    if n == 0:\n",
    "        return True"
   ]
  },
  {
   "cell_type": "code",
   "execution_count": 1,
   "id": "bbb4b69f-0355-4c80-b3ea-868fd9b976ab",
   "metadata": {},
   "outputs": [
    {
     "ename": "SyntaxError",
     "evalue": "invalid syntax (1842666198.py, line 1)",
     "output_type": "error",
     "traceback": [
      "\u001b[1;36m  Cell \u001b[1;32mIn[1], line 1\u001b[1;36m\u001b[0m\n\u001b[1;33m    elif n == 1:\u001b[0m\n\u001b[1;37m    ^\u001b[0m\n\u001b[1;31mSyntaxError\u001b[0m\u001b[1;31m:\u001b[0m invalid syntax\n"
     ]
    }
   ],
   "source": [
    "n=int(inpu\n",
    "elif n == 1:\n",
    "return False\n",
    "# Recursive case\n",
    "elif n > 1:\n",
    "return isodd(n - 1)\n",
    "elif n < 0:\n",
    "return iseven(-n)\n",
    "def isodd(n):\n",
    "return not iseven(n)\n",
    "# Input from the user\n",
    "num = -5\n",
    "if iseven(num):\n",
    "print(\"The number is even\")\n",
    "else:\n",
    "print(\"The number is odd\")\n"
   ]
  },
  {
   "cell_type": "code",
   "execution_count": null,
   "id": "26742106-5d95-4687-912b-d0a732eacc95",
   "metadata": {},
   "outputs": [],
   "source": []
  }
 ],
 "metadata": {
  "kernelspec": {
   "display_name": "Python 3 (ipykernel)",
   "language": "python",
   "name": "python3"
  },
  "language_info": {
   "codemirror_mode": {
    "name": "ipython",
    "version": 3
   },
   "file_extension": ".py",
   "mimetype": "text/x-python",
   "name": "python",
   "nbconvert_exporter": "python",
   "pygments_lexer": "ipython3",
   "version": "3.12.4"
  }
 },
 "nbformat": 4,
 "nbformat_minor": 5
}
