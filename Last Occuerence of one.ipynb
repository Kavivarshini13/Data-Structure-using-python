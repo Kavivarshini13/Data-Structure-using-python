{
 "cells": [
  {
   "cell_type": "code",
   "execution_count": 3,
   "id": "e1339245-d3ad-47b8-8528-a0516d953a3a",
   "metadata": {},
   "outputs": [
    {
     "name": "stdout",
     "output_type": "stream",
     "text": [
      "last index of one: 1\n"
     ]
    }
   ],
   "source": [
    "import numpy as np\n",
    "x=np.array([0,1,1,0,1,0,1,0,0])\n",
    "def last1_occur(x):\n",
    "    inddex=-1\n",
    "    n=len(x)\n",
    "    for i in range(n):\n",
    "        if x[i]==1:\n",
    "            index=i\n",
    "            return index\n",
    "print(\"last index of one:\",last1_occur(x))"
   ]
  },
  {
   "cell_type": "code",
   "execution_count": null,
   "id": "022fbfbc-b29f-4669-81b9-87c35a8e5348",
   "metadata": {},
   "outputs": [],
   "source": []
  }
 ],
 "metadata": {
  "kernelspec": {
   "display_name": "Python 3 (ipykernel)",
   "language": "python",
   "name": "python3"
  },
  "language_info": {
   "codemirror_mode": {
    "name": "ipython",
    "version": 3
   },
   "file_extension": ".py",
   "mimetype": "text/x-python",
   "name": "python",
   "nbconvert_exporter": "python",
   "pygments_lexer": "ipython3",
   "version": "3.12.4"
  }
 },
 "nbformat": 4,
 "nbformat_minor": 5
}
