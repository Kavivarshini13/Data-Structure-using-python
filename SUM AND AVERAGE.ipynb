{
 "cells": [
  {
   "cell_type": "code",
   "execution_count": 2,
   "id": "4d8a4a1c-e8d7-48fa-97b3-e5f7e77194a7",
   "metadata": {},
   "outputs": [],
   "source": [
    "import numpy as np"
   ]
  },
  {
   "cell_type": "code",
   "execution_count": 4,
   "id": "bbdbb644-8b9d-4d79-a386-1514e488aa70",
   "metadata": {},
   "outputs": [
    {
     "name": "stdout",
     "output_type": "stream",
     "text": [
      "30.0\n"
     ]
    }
   ],
   "source": [
    "x=np.array([10,20,30,40,50])\n",
    "def avg(x):\n",
    "    l=len(x)\n",
    "    add_all=sum(x)\n",
    "    average=add_all/l\n",
    "    return average\n",
    "result=avg(x)\n",
    "print(result)"
   ]
  },
  {
   "cell_type": "code",
   "execution_count": null,
   "id": "3b8621da-19c2-4b2b-a699-8ccf47705626",
   "metadata": {},
   "outputs": [],
   "source": []
  }
 ],
 "metadata": {
  "kernelspec": {
   "display_name": "Python 3 (ipykernel)",
   "language": "python",
   "name": "python3"
  },
  "language_info": {
   "codemirror_mode": {
    "name": "ipython",
    "version": 3
   },
   "file_extension": ".py",
   "mimetype": "text/x-python",
   "name": "python",
   "nbconvert_exporter": "python",
   "pygments_lexer": "ipython3",
   "version": "3.12.4"
  }
 },
 "nbformat": 4,
 "nbformat_minor": 5
}
